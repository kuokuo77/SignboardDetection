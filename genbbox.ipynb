{
 "cells": [
  {
   "cell_type": "code",
   "execution_count": 155,
   "metadata": {},
   "outputs": [],
   "source": [
    "import pandas as pd\n",
    "from PIL import Image\n",
    "from matplotlib import pyplot as plt\n",
    "from torchvision.utils import draw_bounding_boxes\n",
    "from torchvision import transforms\n",
    "import torch\n",
    "import os"
   ]
  },
  {
   "cell_type": "code",
   "execution_count": 69,
   "metadata": {},
   "outputs": [],
   "source": [
    "img_path = 'bbox_test/API_LatLng.jpg'\n",
    "ann_path = 'bbox_test/144308_API_LatLng.txt'"
   ]
  },
  {
   "cell_type": "code",
   "execution_count": 70,
   "metadata": {},
   "outputs": [
    {
     "name": "stderr",
     "output_type": "stream",
     "text": [
      "C:\\Users\\as279\\AppData\\Local\\Temp/ipykernel_20080/1623778424.py:6: UserWarning: To copy construct from a tensor, it is recommended to use sourceTensor.clone().detach() or sourceTensor.clone().detach().requires_grad_(True), rather than torch.tensor(sourceTensor).\n",
      "  img_int = torch.tensor(img_tensor*255, dtype=torch.uint8)\n"
     ]
    }
   ],
   "source": [
    "convert_tensor = transforms.ToTensor()\n",
    "\n",
    "img = Image.open(img_path).convert('RGB')\n",
    "img_tensor = convert_tensor(img)\n",
    "\n",
    "img_int = torch.tensor(img_tensor*255, dtype=torch.uint8)\n"
   ]
  },
  {
   "cell_type": "code",
   "execution_count": 5,
   "metadata": {},
   "outputs": [],
   "source": [
    "box = []\n",
    "\n",
    "with open(ann_path) as f:\n",
    "    for line in f.readlines():\n",
    "       box.append(line) "
   ]
  },
  {
   "cell_type": "code",
   "execution_count": 6,
   "metadata": {},
   "outputs": [
    {
     "data": {
      "text/plain": [
       "['1.000 0.133 0.546 0.113 0.136\\n',\n",
       " '1.000 0.309 0.682 0.492 0.077\\n',\n",
       " '2.000 0.602 0.692 0.078 0.069\\n']"
      ]
     },
     "execution_count": 6,
     "metadata": {},
     "output_type": "execute_result"
    }
   ],
   "source": [
    "box"
   ]
  },
  {
   "cell_type": "code",
   "execution_count": 77,
   "metadata": {},
   "outputs": [],
   "source": [
    "m = box[0]\n",
    "m = list(filter((\"\\n\").__ne__, m))\n",
    "m = \"\".join(m)\n",
    "m = m.split(' ')"
   ]
  },
  {
   "cell_type": "code",
   "execution_count": 78,
   "metadata": {},
   "outputs": [
    {
     "data": {
      "text/plain": [
       "['1.000', '0.133', '0.546', '0.113', '0.136']"
      ]
     },
     "execution_count": 78,
     "metadata": {},
     "output_type": "execute_result"
    }
   ],
   "source": [
    "m"
   ]
  },
  {
   "cell_type": "code",
   "execution_count": 49,
   "metadata": {},
   "outputs": [],
   "source": [
    "box_df = pd.DataFrame(columns=[\"image_id\", \"type\",\"xmin\",\"ymin\",\"xmax\",\"ymax\"])\n",
    "\n",
    "\n"
   ]
  },
  {
   "cell_type": "code",
   "execution_count": 50,
   "metadata": {},
   "outputs": [
    {
     "data": {
      "text/html": [
       "<div>\n",
       "<style scoped>\n",
       "    .dataframe tbody tr th:only-of-type {\n",
       "        vertical-align: middle;\n",
       "    }\n",
       "\n",
       "    .dataframe tbody tr th {\n",
       "        vertical-align: top;\n",
       "    }\n",
       "\n",
       "    .dataframe thead th {\n",
       "        text-align: right;\n",
       "    }\n",
       "</style>\n",
       "<table border=\"1\" class=\"dataframe\">\n",
       "  <thead>\n",
       "    <tr style=\"text-align: right;\">\n",
       "      <th></th>\n",
       "      <th>type</th>\n",
       "      <th>xmin</th>\n",
       "      <th>ymin</th>\n",
       "      <th>xmax</th>\n",
       "      <th>ymax</th>\n",
       "    </tr>\n",
       "  </thead>\n",
       "  <tbody>\n",
       "    <tr>\n",
       "      <th>0</th>\n",
       "      <td>1.0</td>\n",
       "      <td>0.133</td>\n",
       "      <td>0.546</td>\n",
       "      <td>0.113</td>\n",
       "      <td>0.136</td>\n",
       "    </tr>\n",
       "  </tbody>\n",
       "</table>\n",
       "</div>"
      ],
      "text/plain": [
       "   type   xmin   ymin   xmax   ymax\n",
       "0   1.0  0.133  0.546  0.113  0.136"
      ]
     },
     "execution_count": 50,
     "metadata": {},
     "output_type": "execute_result"
    }
   ],
   "source": [
    "box_df"
   ]
  },
  {
   "cell_type": "code",
   "execution_count": 189,
   "metadata": {},
   "outputs": [],
   "source": [
    "def getBoxInf(img_id, line):\n",
    "    return [img_id] + toBbox_loc(toBbox_coord(line))\n",
    "\n",
    "def toBbox_coord(fline):\n",
    "\n",
    "    fline = list(filter((\"\\n\").__ne__, fline))\n",
    "    fline = \"\".join(fline)\n",
    "    fline = fline.split(' ')\n",
    "    box_coord = [float(fline[i]) for i in range(len(fline))]\n",
    "    return box_coord\n",
    "\n",
    "def toBbox_loc(box_coord):\n",
    "    loc_box = [box_coord[0], 640*(box_coord[1]-box_coord[3]/2), 640*(box_coord[2]-box_coord[4]/2), 640*(box_coord[1]+box_coord[3]/2), 640*(box_coord[2]+box_coord[4]/2)]\n",
    "    return loc_box"
   ]
  },
  {
   "cell_type": "code",
   "execution_count": 199,
   "metadata": {},
   "outputs": [],
   "source": [
    "def getBbox(img_id):\n",
    "\n",
    "    '''\n",
    "    Given: image ID (ex. 144308_API_LatLng.txt)\n",
    "    Read each line in the txt file, which are the information of bounding box in a image, and add them into the list 'box'\n",
    "    box: type, x, y, width, height in string type\n",
    "    by toBbox_coord: translate it into list type: [type, x, y, width, height]\n",
    "    by toBbox_loc  : translate it into list type for model using: [type, xmin, ymin, xmax, ymax]\n",
    "    finally, return a list made up of [image id, type, xmin, ymin, xmax, ymax]\n",
    "    '''\n",
    "\n",
    "    path = 'bbox_test/' + str(img_id)\n",
    "    box = []\n",
    "    with open(path) as f:\n",
    "        for line in f.readlines():\n",
    "            box.append(line) \n",
    "    df = {\"image_id\": [], \"type\": [], \"xmin\": [], \"ymin\": [], \"xmax\": [], \"ymax\": []}\n",
    "    for line in box:\n",
    "        df[\"image_id\"].append(img_id)\n",
    "        df[\"type\"].append(str(getBoxInf(img_id, line)[1]))\n",
    "        df[\"xmin\"].append(float(getBoxInf(img_id, line)[2]))\n",
    "        df[\"ymin\"].append(float(getBoxInf(img_id, line)[3]))\n",
    "        df[\"xmax\"].append(float(getBoxInf(img_id, line)[4]))\n",
    "        df[\"ymax\"].append(float(getBoxInf(img_id, line)[5]))\n",
    "    bbox = []\n",
    "    for line in box:\n",
    "        bbox.append([float(getBoxInf(img_id, line)[2]), float(getBoxInf(img_id, line)[3]), float(getBoxInf(img_id, line)[4]), float(getBoxInf(img_id, line)[5])])\n",
    "    return df, bbox  \n",
    "\n",
    "\n",
    "\n"
   ]
  },
  {
   "cell_type": "code",
   "execution_count": 220,
   "metadata": {},
   "outputs": [
    {
     "data": {
      "text/plain": [
       "['1.0', '1.0', '2.0']"
      ]
     },
     "execution_count": 220,
     "metadata": {},
     "output_type": "execute_result"
    }
   ],
   "source": [
    "getBbox('144308_API_LatLng.txt')[0]['type']"
   ]
  },
  {
   "cell_type": "code",
   "execution_count": 192,
   "metadata": {},
   "outputs": [],
   "source": [
    "df_ = pd.DataFrame(getBbox('144308_API_LatLng.txt')[0])"
   ]
  },
  {
   "cell_type": "code",
   "execution_count": 148,
   "metadata": {},
   "outputs": [
    {
     "data": {
      "text/html": [
       "<div>\n",
       "<style scoped>\n",
       "    .dataframe tbody tr th:only-of-type {\n",
       "        vertical-align: middle;\n",
       "    }\n",
       "\n",
       "    .dataframe tbody tr th {\n",
       "        vertical-align: top;\n",
       "    }\n",
       "\n",
       "    .dataframe thead th {\n",
       "        text-align: right;\n",
       "    }\n",
       "</style>\n",
       "<table border=\"1\" class=\"dataframe\">\n",
       "  <thead>\n",
       "    <tr style=\"text-align: right;\">\n",
       "      <th></th>\n",
       "      <th>image_id</th>\n",
       "      <th>type</th>\n",
       "      <th>xmin</th>\n",
       "      <th>ymin</th>\n",
       "      <th>xmax</th>\n",
       "      <th>ymax</th>\n",
       "    </tr>\n",
       "  </thead>\n",
       "  <tbody>\n",
       "    <tr>\n",
       "      <th>0</th>\n",
       "      <td>144308_API_LatLng.txt</td>\n",
       "      <td>1.0</td>\n",
       "      <td>48.96</td>\n",
       "      <td>305.92</td>\n",
       "      <td>121.28</td>\n",
       "      <td>392.96</td>\n",
       "    </tr>\n",
       "    <tr>\n",
       "      <th>1</th>\n",
       "      <td>144308_API_LatLng.txt</td>\n",
       "      <td>1.0</td>\n",
       "      <td>40.32</td>\n",
       "      <td>411.84</td>\n",
       "      <td>355.20</td>\n",
       "      <td>461.12</td>\n",
       "    </tr>\n",
       "    <tr>\n",
       "      <th>2</th>\n",
       "      <td>144308_API_LatLng.txt</td>\n",
       "      <td>2.0</td>\n",
       "      <td>360.32</td>\n",
       "      <td>420.80</td>\n",
       "      <td>410.24</td>\n",
       "      <td>464.96</td>\n",
       "    </tr>\n",
       "  </tbody>\n",
       "</table>\n",
       "</div>"
      ],
      "text/plain": [
       "                image_id type    xmin    ymin    xmax    ymax\n",
       "0  144308_API_LatLng.txt  1.0   48.96  305.92  121.28  392.96\n",
       "1  144308_API_LatLng.txt  1.0   40.32  411.84  355.20  461.12\n",
       "2  144308_API_LatLng.txt  2.0  360.32  420.80  410.24  464.96"
      ]
     },
     "execution_count": 148,
     "metadata": {},
     "output_type": "execute_result"
    }
   ],
   "source": [
    "df_"
   ]
  },
  {
   "cell_type": "code",
   "execution_count": 150,
   "metadata": {},
   "outputs": [],
   "source": [
    "bbox = [df_[\"xmin\"][0], df_[\"ymin\"][0], df_[\"xmax\"][0], df_[\"ymax\"][0]]"
   ]
  },
  {
   "cell_type": "code",
   "execution_count": null,
   "metadata": {},
   "outputs": [],
   "source": [
    "fig = plt.figure(figsize=(14, 10))\n",
    "plt.imshow(draw_bounding_boxes(img_int, torch.Tensor([[df_[\"xmin\"][i], df_[\"ymin\"][i], df_[\"xmax\"][i], df_[\"ymax\"][i]] for i in range(3)]),  colors='red', width=2).permute(1, 2, 0))"
   ]
  },
  {
   "cell_type": "code",
   "execution_count": null,
   "metadata": {},
   "outputs": [],
   "source": [
    "\"/home/tonio1314/CVDL/DataSet/DataSet_C/100013/API_Address.jpg\"\n",
    "\n",
    "\"/home/tonio1314/CVDL/kuokuo/object_detection/annotation/b_box/100007_API_LatLng.txt\""
   ]
  },
  {
   "cell_type": "code",
   "execution_count": 230,
   "metadata": {},
   "outputs": [
    {
     "name": "stdout",
     "output_type": "stream",
     "text": [
      "144308_API_LatLng.txt\n"
     ]
    }
   ],
   "source": [
    "datas_dic =  {\"index\": [], \"img_id\": [], \"bbox\": [], \"bbox_num\": [], \"img_root\": [], \"anno_root\": [], \"label\": [], \"split\": []}\n",
    "\n",
    "for path in os.listdir('bbox_test/test/anno'):\n",
    "    datas_dic['anno_root'].append('bbox_test/test/anno/'+path)\n",
    "    datas_dic['split'].append(\"train\")\n",
    "    print(path)\n",
    "\n",
    "for i in range(len(datas_dic['anno_root'])):\n",
    "    datas_dic['img_id'].append(datas_dic['anno_root'][i].split('/')[3])\n",
    "    datas_dic['index'].append(i)\n",
    "    \n",
    "for i in range(len(datas_dic['anno_root'])):\n",
    "    datas_dic['bbox'].append(getBbox(datas_dic['img_id'][i])[1])\n",
    "    datas_dic['bbox_num'].append(len(getBbox(datas_dic['img_id'][i])[1]))\n",
    "    datas_dic['label'].append(getBbox(datas_dic['img_id'][i])[0]['type'])\n",
    "    datas_dic[\"img_root\"].append('bbox_test/test/dataset/'+datas_dic['img_id'][0].split('_')[0]+'/'+(datas_dic[\"img_id\"][0].split('_')[1] + \"_\" + datas_dic[\"img_id\"][0].split('_')[2]).split('.')[0] + \".jpg\")"
   ]
  },
  {
   "cell_type": "code",
   "execution_count": 231,
   "metadata": {},
   "outputs": [
    {
     "data": {
      "text/plain": [
       "{'index': [0],\n",
       " 'img_id': ['144308_API_LatLng.txt'],\n",
       " 'bbox': [[[48.96000000000001, 305.92, 121.28, 392.96000000000004],\n",
       "   [40.32, 411.84000000000003, 355.19999999999993, 461.12],\n",
       "   [360.31999999999994, 420.79999999999995, 410.24, 464.9599999999999]]],\n",
       " 'bbox_num': [3],\n",
       " 'img_root': ['bbox_test/test/dataset/144308/API_LatLng.jpg'],\n",
       " 'anno_root': ['bbox_test/test/anno/144308_API_LatLng.txt'],\n",
       " 'label': [['1.0', '1.0', '2.0']],\n",
       " 'split': ['train']}"
      ]
     },
     "execution_count": 231,
     "metadata": {},
     "output_type": "execute_result"
    }
   ],
   "source": [
    "datas_dic"
   ]
  },
  {
   "cell_type": "code",
   "execution_count": 232,
   "metadata": {},
   "outputs": [],
   "source": [
    "datas_df = pd.DataFrame(datas_dic)"
   ]
  },
  {
   "cell_type": "code",
   "execution_count": 233,
   "metadata": {},
   "outputs": [
    {
     "data": {
      "text/html": [
       "<div>\n",
       "<style scoped>\n",
       "    .dataframe tbody tr th:only-of-type {\n",
       "        vertical-align: middle;\n",
       "    }\n",
       "\n",
       "    .dataframe tbody tr th {\n",
       "        vertical-align: top;\n",
       "    }\n",
       "\n",
       "    .dataframe thead th {\n",
       "        text-align: right;\n",
       "    }\n",
       "</style>\n",
       "<table border=\"1\" class=\"dataframe\">\n",
       "  <thead>\n",
       "    <tr style=\"text-align: right;\">\n",
       "      <th></th>\n",
       "      <th>index</th>\n",
       "      <th>img_id</th>\n",
       "      <th>bbox</th>\n",
       "      <th>bbox_num</th>\n",
       "      <th>img_root</th>\n",
       "      <th>anno_root</th>\n",
       "      <th>label</th>\n",
       "      <th>split</th>\n",
       "    </tr>\n",
       "  </thead>\n",
       "  <tbody>\n",
       "    <tr>\n",
       "      <th>0</th>\n",
       "      <td>0</td>\n",
       "      <td>144308_API_LatLng.txt</td>\n",
       "      <td>[[48.96000000000001, 305.92, 121.28, 392.96000...</td>\n",
       "      <td>3</td>\n",
       "      <td>bbox_test/test/dataset/144308/API_LatLng.jpg</td>\n",
       "      <td>bbox_test/test/anno/144308_API_LatLng.txt</td>\n",
       "      <td>[1.0, 1.0, 2.0]</td>\n",
       "      <td>train</td>\n",
       "    </tr>\n",
       "  </tbody>\n",
       "</table>\n",
       "</div>"
      ],
      "text/plain": [
       "   index                 img_id  \\\n",
       "0      0  144308_API_LatLng.txt   \n",
       "\n",
       "                                                bbox  bbox_num  \\\n",
       "0  [[48.96000000000001, 305.92, 121.28, 392.96000...         3   \n",
       "\n",
       "                                       img_root  \\\n",
       "0  bbox_test/test/dataset/144308/API_LatLng.jpg   \n",
       "\n",
       "                                   anno_root            label  split  \n",
       "0  bbox_test/test/anno/144308_API_LatLng.txt  [1.0, 1.0, 2.0]  train  "
      ]
     },
     "execution_count": 233,
     "metadata": {},
     "output_type": "execute_result"
    }
   ],
   "source": [
    "datas_df"
   ]
  },
  {
   "cell_type": "code",
   "execution_count": null,
   "metadata": {},
   "outputs": [],
   "source": []
  }
 ],
 "metadata": {
  "kernelspec": {
   "display_name": "Python 3.9.6 64-bit",
   "language": "python",
   "name": "python3"
  },
  "language_info": {
   "codemirror_mode": {
    "name": "ipython",
    "version": 3
   },
   "file_extension": ".py",
   "mimetype": "text/x-python",
   "name": "python",
   "nbconvert_exporter": "python",
   "pygments_lexer": "ipython3",
   "version": "3.9.6"
  },
  "orig_nbformat": 4,
  "vscode": {
   "interpreter": {
    "hash": "36ddec86b0243c1bb36d2f59f561bb5b9d84178945230952837efa86b8a43058"
   }
  }
 },
 "nbformat": 4,
 "nbformat_minor": 2
}
